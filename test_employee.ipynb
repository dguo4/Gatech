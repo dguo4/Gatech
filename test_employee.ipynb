{
  "nbformat": 4,
  "nbformat_minor": 0,
  "metadata": {
    "colab": {
      "name": "test_employee.ipynb",
      "provenance": [],
      "authorship_tag": "ABX9TyNbollnioyK+V5FQ9W4EQAg",
      "include_colab_link": true
    },
    "kernelspec": {
      "name": "python3",
      "display_name": "Python 3"
    }
  },
  "cells": [
    {
      "cell_type": "markdown",
      "metadata": {
        "id": "view-in-github",
        "colab_type": "text"
      },
      "source": [
        "<a href=\"https://colab.research.google.com/github/dguo4/Gatech/blob/master/test_employee.ipynb\" target=\"_parent\"><img src=\"https://colab.research.google.com/assets/colab-badge.svg\" alt=\"Open In Colab\"/></a>"
      ]
    },
    {
      "cell_type": "code",
      "metadata": {
        "id": "OQTv0fwlb-0s"
      },
      "source": [
        "import unittest\r\n",
        "# why we need mock? because sometimes our test is failed is due to poor connection to DB not our code issue\r\n",
        "from unittest.mock import patch\r\n",
        "from employee import Employee\r\n",
        "\r\n",
        "# test is not run in below sequense. therefore, we need to make sure each test is isolated from one another\r\n",
        "class TestEmployee(unittest.TestCase): \r\n",
        "\r\n",
        "    @classmethod\r\n",
        "    def setUpClass(cls):  # run before all tests. For example, we could set up our connection to DB. \r\n",
        "        print('setupClass')\r\n",
        "\r\n",
        "    @classmethod\r\n",
        "    def tearDownClass(cls): # run after all tests. For example, we could shut down all connnections to DB. \r\n",
        "        print('teardownClass')\r\n",
        "\r\n",
        "    def setUp(self): # run before every test. therefore, we could avoid creating those instances in each test\r\n",
        "        print('setUp')\r\n",
        "        self.emp_1 = Employee('Corey', 'Schafer', 50000)\r\n",
        "        self.emp_2 = Employee('Sue', 'Smith', 60000)\r\n",
        "\r\n",
        "    def tearDown(self): # run after every test. for example, if we add some to DB for test, we could delete those after test. \r\n",
        "        print('tearDown\\n')\r\n",
        "\r\n",
        "    def test_email(self):\r\n",
        "        print('test_email')\r\n",
        "        self.assertEqual(self.emp_1.email, 'Corey.Schafer@email.com')\r\n",
        "        self.assertEqual(self.emp_2.email, 'Sue.Smith@email.com')\r\n",
        "\r\n",
        "        self.emp_1.first = 'John'\r\n",
        "        self.emp_2.first = 'Jane'\r\n",
        "\r\n",
        "        self.assertEqual(self.emp_1.email, 'John.Schafer@email.com')\r\n",
        "        self.assertEqual(self.emp_2.email, 'Jane.Smith@email.com')\r\n",
        "\r\n",
        "    def test_fullname(self):\r\n",
        "        print('test_fullname')\r\n",
        "        self.assertEqual(self.emp_1.fullname, 'Corey Schafer')\r\n",
        "        self.assertEqual(self.emp_2.fullname, 'Sue Smith')\r\n",
        "\r\n",
        "        self.emp_1.first = 'John'\r\n",
        "        self.emp_2.first = 'Jane'\r\n",
        "\r\n",
        "        self.assertEqual(self.emp_1.fullname, 'John Schafer')\r\n",
        "        self.assertEqual(self.emp_2.fullname, 'Jane Smith')\r\n",
        "\r\n",
        "    def test_apply_raise(self):\r\n",
        "        print('test_apply_raise')\r\n",
        "        self.emp_1.apply_raise()\r\n",
        "        self.emp_2.apply_raise()\r\n",
        "\r\n",
        "        self.assertEqual(self.emp_1.pay, 52500)\r\n",
        "        self.assertEqual(self.emp_2.pay, 63000)\r\n",
        "\r\n",
        "    def test_monthly_schedule(self):\r\n",
        "        with patch('employee.requests.get') as mocked_get:\r\n",
        "            mocked_get.return_value.ok = True\r\n",
        "            mocked_get.return_value.text = 'Success'\r\n",
        "\r\n",
        "            schedule = self.emp_1.monthly_schedule('May')\r\n",
        "            mocked_get.assert_called_with('http://company.com/Schafer/May')\r\n",
        "            self.assertEqual(schedule, 'Success')\r\n",
        "\r\n",
        "            mocked_get.return_value.ok = False\r\n",
        "\r\n",
        "            schedule = self.emp_2.monthly_schedule('June')\r\n",
        "            mocked_get.assert_called_with('http://company.com/Smith/June')\r\n",
        "            self.assertEqual(schedule, 'Bad Response!')\r\n",
        "\r\n",
        "\r\n",
        "\r\n",
        "\r\n",
        "if __name__ == '__main__':\r\n",
        "    unittest.main()\r\n",
        "\r\n",
        "# only currently running module will have __name__ = '__main__'\r\n",
        "# we use this condition to check if this module is directly run by Python or imported\r\n"
      ],
      "execution_count": null,
      "outputs": []
    }
  ]
}