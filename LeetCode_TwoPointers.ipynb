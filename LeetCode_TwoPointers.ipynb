{
  "nbformat": 4,
  "nbformat_minor": 0,
  "metadata": {
    "colab": {
      "name": "LeetCode_TwoPointers.ipynb",
      "provenance": [],
      "authorship_tag": "ABX9TyMAEmDKER3XS5/WhMeNfvYE",
      "include_colab_link": true
    },
    "kernelspec": {
      "name": "python3",
      "display_name": "Python 3"
    }
  },
  "cells": [
    {
      "cell_type": "markdown",
      "metadata": {
        "id": "view-in-github",
        "colab_type": "text"
      },
      "source": [
        "<a href=\"https://colab.research.google.com/github/dguo4/Gatech/blob/master/LeetCode_TwoPointers.ipynb\" target=\"_parent\"><img src=\"https://colab.research.google.com/assets/colab-badge.svg\" alt=\"Open In Colab\"/></a>"
      ]
    },
    {
      "cell_type": "markdown",
      "metadata": {
        "id": "M1U2A3chGYzv"
      },
      "source": [
        "LeetCode 1570. Dot Product of Two Sparse Vectors\r\n",
        "\r\n",
        "https://leetcode.com/problems/dot-product-of-two-sparse-vectors/\r\n",
        "\r\n",
        "Tag: sparce matrix"
      ]
    },
    {
      "cell_type": "code",
      "metadata": {
        "id": "pyaE0sqzGvm8"
      },
      "source": [
        "class SparseVector:\r\n",
        "    def __init__(self, nums: List[int]):\r\n",
        "        nums_dict ={}\r\n",
        "        if nums: \r\n",
        "            for key, val in enumerate(nums):\r\n",
        "                nums_dict[key] = val\r\n",
        "        self.nums = nums_dict\r\n",
        "    # Return the dotProduct of two sparse vectors\r\n",
        "    def dotProduct(self, vec: 'SparseVector') -> int:\r\n",
        "        result = 0\r\n",
        "        if len(self.nums) < len(vec.nums):\r\n",
        "            for k in self.nums.keys():\r\n",
        "                if k in vec.nums.keys():\r\n",
        "                    result += self.nums[k]*vec.nums[k]\r\n",
        "        else:\r\n",
        "            for k in vec.nums.keys():\r\n",
        "                if k in self.nums.keys():\r\n",
        "                    result += self.nums[k]*vec.nums[k]      \r\n",
        "        return result\r\n",
        "# Your SparseVector object will be instantiated and called as such:\r\n",
        "# v1 = SparseVector(nums1)\r\n",
        "# v2 = SparseVector(nums2)\r\n",
        "# ans = v1.dotProduct(v2)"
      ],
      "execution_count": null,
      "outputs": []
    },
    {
      "cell_type": "markdown",
      "metadata": {
        "id": "hRd2jH0DH5v-"
      },
      "source": [
        "LeetCode 28. Implement strStr()\r\n",
        "\r\n",
        "https://leetcode.com/problems/implement-strstr/\r\n",
        "\r\n",
        "Tag:\r\n",
        "\r\n"
      ]
    },
    {
      "cell_type": "code",
      "metadata": {
        "id": "RXQNdJwjIFq6"
      },
      "source": [
        "class Solution:\r\n",
        "    def strStr(self, haystack: str, needle: str) -> int:\r\n",
        "        if len(needle) == 0:\r\n",
        "            return 0\r\n",
        "        \r\n",
        "        h, n = 0, 0\r\n",
        "        same_char_list = []\r\n",
        "        \r\n",
        "        while n < len(needle) and h < len(haystack):\r\n",
        "            if haystack[h] == needle[n]:\r\n",
        "                same_char_list.append(haystack[h])\r\n",
        "                h += 1\r\n",
        "                n += 1\r\n",
        "            elif len(same_char_list) == 0:\r\n",
        "                h += 1\r\n",
        "            else:\r\n",
        "                h -= (len(same_char_list)-1)\r\n",
        "                n = 0\r\n",
        "                same_char_list = []\r\n",
        "            # print(same_char_list)\r\n",
        "            if len(same_char_list) == len(needle):\r\n",
        "                break\r\n",
        "            \r\n",
        "\r\n",
        "        if n == 0 or n != len(needle):\r\n",
        "            return -1\r\n",
        "        else: \r\n",
        "            return h - len(needle)"
      ],
      "execution_count": null,
      "outputs": []
    },
    {
      "cell_type": "markdown",
      "metadata": {
        "id": "E3w3zfMNILJ9"
      },
      "source": [
        "LeetCode 125. Valid Palindrome\r\n",
        "\r\n",
        "https://leetcode.com/problems/valid-palindrome/\r\n",
        "\r\n",
        "Tag: "
      ]
    },
    {
      "cell_type": "code",
      "metadata": {
        "id": "1odSL06SIa-x"
      },
      "source": [
        "class Solution:\r\n",
        "    def isPalindrome(self, s: str) -> bool:\r\n",
        "        if len(s) <= 1:\r\n",
        "            return True\r\n",
        "        \r\n",
        "        left, right = 0, len(s)-1\r\n",
        "        \r\n",
        "        while left < right:\r\n",
        "            if not s[left].isalpha() and not s[left].isnumeric():\r\n",
        "                left += 1\r\n",
        "            elif not s[right].isalpha() and not s[right].isnumeric():\r\n",
        "                right -= 1\r\n",
        "            elif s[left].lower() == s[right].lower():\r\n",
        "                left += 1\r\n",
        "                right -= 1\r\n",
        "            else:\r\n",
        "                # print('---')\r\n",
        "                # print(s[left])\r\n",
        "                # print(s[right])\r\n",
        "                return False\r\n",
        "        \r\n",
        "        return True"
      ],
      "execution_count": null,
      "outputs": []
    },
    {
      "cell_type": "markdown",
      "metadata": {
        "id": "po8a2yRYIdAN"
      },
      "source": [
        "LeetCode 925. Long Pressed Name\r\n",
        "\r\n",
        "https://leetcode.com/problems/long-pressed-name/\r\n",
        "\r\n",
        "Tag:"
      ]
    },
    {
      "cell_type": "code",
      "metadata": {
        "id": "kLfScccGIjSL"
      },
      "source": [
        "class Solution:\r\n",
        "    def isLongPressedName(self, name: str, typed: str) -> bool:\r\n",
        "        if len(name) < 1 or len(typed) < 1:\r\n",
        "            return False\r\n",
        "\r\n",
        "        name_idx = 0\r\n",
        "        typed_idx = 0\r\n",
        "\r\n",
        "        \r\n",
        "        while name_idx < len(name)-1:\r\n",
        "            if name[name_idx] == typed[typed_idx]:\r\n",
        "                typed_idx += 1\r\n",
        "            else:\r\n",
        "                name_idx += 1\r\n",
        "        \r\n",
        "        if name_idx == len(name)-1:\r\n",
        "            return True\r\n",
        "        else:\r\n",
        "            return False\r\n",
        "        \r\n",
        "# only consider about frequency\r\n",
        "#         name_dict = Counter(name) \r\n",
        "#         typed_dict = Counter(typed)\r\n",
        "        \r\n",
        "#         for k in name_dict.keys():\r\n",
        "#             if typed_dict[k] < name_dict[k]:\r\n",
        "#                 return False\r\n",
        "        \r\n",
        "#         return True\r\n"
      ],
      "execution_count": null,
      "outputs": []
    },
    {
      "cell_type": "markdown",
      "metadata": {
        "id": "kKJd6xj4Imcz"
      },
      "source": [
        "LeetCode 234. Palindrome Linked List\r\n",
        "\r\n",
        "https://leetcode.com/problems/palindrome-linked-list/\r\n",
        "\r\n",
        "Tag: \r\n"
      ]
    },
    {
      "cell_type": "code",
      "metadata": {
        "id": "OGY6Y2vbIu7p"
      },
      "source": [
        "# Definition for singly-linked list.\r\n",
        "# class ListNode:\r\n",
        "#     def __init__(self, val=0, next=None):\r\n",
        "#         self.val = val\r\n",
        "#         self.next = next\r\n",
        "class Solution:\r\n",
        "        def isPalindrome(self, head: ListNode) -> bool:\r\n",
        "        if not head:\r\n",
        "            return True\r\n",
        "        \r\n",
        "        val_list = []\r\n",
        "        \r\n",
        "        while head != None:\r\n",
        "            val_list.append(head.val)\r\n",
        "            head = head.next\r\n",
        "        \r\n",
        "#         for i in range(len(val_list)):\r\n",
        "#             if val_list[i] != val_list[-1-i]:\r\n",
        "#                 return False\r\n",
        "            \r\n",
        "        return val_list == val_list[::-1]\r\n",
        "    \r\n",
        "#     def isPalindrome(self, head: ListNode) -> bool:\r\n",
        "#         # corner cases\r\n",
        "#         if head is None or head.next is None: return True\r\n",
        "\t\t\r\n",
        "# \t\t# reverse first half\r\n",
        "#         temp = fast = slow = head\r\n",
        "#         prev = None\r\n",
        "#         while fast and fast.next:\r\n",
        "#             fast = fast.next.next\r\n",
        "#             temp = temp.next\r\n",
        "#             slow.next = prev\r\n",
        "#             prev = slow\r\n",
        "#             slow = temp\r\n",
        "        \r\n",
        "# \t\t# the list has odd nodes\r\n",
        "#         if fast is not None:\r\n",
        "#             slow = slow.next\r\n",
        "#             while prev:\r\n",
        "#                 if prev.val != slow.val:\r\n",
        "#                     return False\r\n",
        "#                 prev = prev.next\r\n",
        "#                 slow = slow.next\r\n",
        "#         else: # the list has even nodes\r\n",
        "#             while prev:\r\n",
        "#                 if prev.val != slow.val:\r\n",
        "#                     return False\r\n",
        "#                 prev = prev.next\r\n",
        "#                 slow = slow.next\r\n",
        "#         return True\r\n"
      ],
      "execution_count": null,
      "outputs": []
    }
  ]
}